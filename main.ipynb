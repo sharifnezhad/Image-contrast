{
 "cells": [
  {
   "cell_type": "code",
   "execution_count": 6,
   "id": "9f32e12b",
   "metadata": {},
   "outputs": [],
   "source": [
    "import cv2\n",
    "import numpy as np\n",
    "import matplotlib.pyplot as plt"
   ]
  },
  {
   "cell_type": "code",
   "execution_count": 20,
   "id": "f3d29b31",
   "metadata": {},
   "outputs": [
    {
     "data": {
      "text/plain": [
       "True"
      ]
     },
     "execution_count": 20,
     "metadata": {},
     "output_type": "execute_result"
    }
   ],
   "source": [
    "img=cv2.imread('image1.png')\n",
    "lookUpTable = np.empty((1,256), np.uint8)\n",
    "for i in range(256):\n",
    "    lookUpTable[0,i] = np.clip(pow(i / 255.0, 8.0 ) * 255.0, 0, 255)\n",
    "res = cv2.LUT(img, lookUpTable)\n",
    "cv2.imwrite('result1.jpg',res)"
   ]
  },
  {
   "cell_type": "code",
   "execution_count": 30,
   "id": "54a43c80",
   "metadata": {},
   "outputs": [
    {
     "data": {
      "text/plain": [
       "True"
      ]
     },
     "execution_count": 30,
     "metadata": {},
     "output_type": "execute_result"
    }
   ],
   "source": [
    "img=cv2.imread('image2.jfif')\n",
    "lookUpTable = np.empty((1,256), np.uint8)\n",
    "for i in range(256):\n",
    "    lookUpTable[0,i] = np.clip(pow(i / 255.0, 2.0 ) * 255.0, 0, 255)\n",
    "res = cv2.LUT(img, lookUpTable)\n",
    "cv2.imwrite('result2.jpg',res)"
   ]
  },
  {
   "cell_type": "code",
   "execution_count": 35,
   "id": "127c0488",
   "metadata": {},
   "outputs": [
    {
     "data": {
      "text/plain": [
       "True"
      ]
     },
     "execution_count": 35,
     "metadata": {},
     "output_type": "execute_result"
    }
   ],
   "source": [
    "img=cv2.imread('image3.jfif')\n",
    "lookUpTable = np.empty((1,256), np.uint8)\n",
    "for i in range(256):\n",
    "    lookUpTable[0,i] = np.clip(pow(i / 255.0, 2.0 ) * 255.0, 0, 255)\n",
    "res = cv2.LUT(img, lookUpTable)\n",
    "cv2.imwrite('result3.jpg',res)"
   ]
  },
  {
   "cell_type": "code",
   "execution_count": null,
   "id": "38ed1e2b",
   "metadata": {},
   "outputs": [],
   "source": []
  }
 ],
 "metadata": {
  "kernelspec": {
   "display_name": "Python 3 (ipykernel)",
   "language": "python",
   "name": "python3"
  },
  "language_info": {
   "codemirror_mode": {
    "name": "ipython",
    "version": 3
   },
   "file_extension": ".py",
   "mimetype": "text/x-python",
   "name": "python",
   "nbconvert_exporter": "python",
   "pygments_lexer": "ipython3",
   "version": "3.9.6"
  }
 },
 "nbformat": 4,
 "nbformat_minor": 5
}
